{
  "nbformat": 4,
  "nbformat_minor": 0,
  "metadata": {
    "colab": {
      "provenance": [],
      "gpuType": "T4"
    },
    "kernelspec": {
      "name": "python3",
      "display_name": "Python 3"
    },
    "language_info": {
      "name": "python"
    },
    "accelerator": "GPU"
  },
  "cells": [
    {
      "cell_type": "code",
      "execution_count": 17,
      "metadata": {
        "colab": {
          "base_uri": "https://localhost:8080/"
        },
        "id": "Fj9D4FRAga5c",
        "outputId": "b1ca7425-3529-4705-f9a9-1ba25cda8054"
      },
      "outputs": [
        {
          "output_type": "stream",
          "name": "stdout",
          "text": [
            "Requirement already satisfied: transformers in /usr/local/lib/python3.10/dist-packages (4.46.3)\n",
            "Requirement already satisfied: filelock in /usr/local/lib/python3.10/dist-packages (from transformers) (3.16.1)\n",
            "Requirement already satisfied: huggingface-hub<1.0,>=0.23.2 in /usr/local/lib/python3.10/dist-packages (from transformers) (0.26.3)\n",
            "Requirement already satisfied: numpy>=1.17 in /usr/local/lib/python3.10/dist-packages (from transformers) (1.26.4)\n",
            "Requirement already satisfied: packaging>=20.0 in /usr/local/lib/python3.10/dist-packages (from transformers) (24.2)\n",
            "Requirement already satisfied: pyyaml>=5.1 in /usr/local/lib/python3.10/dist-packages (from transformers) (6.0.2)\n",
            "Requirement already satisfied: regex!=2019.12.17 in /usr/local/lib/python3.10/dist-packages (from transformers) (2024.9.11)\n",
            "Requirement already satisfied: requests in /usr/local/lib/python3.10/dist-packages (from transformers) (2.32.3)\n",
            "Requirement already satisfied: tokenizers<0.21,>=0.20 in /usr/local/lib/python3.10/dist-packages (from transformers) (0.20.3)\n",
            "Requirement already satisfied: safetensors>=0.4.1 in /usr/local/lib/python3.10/dist-packages (from transformers) (0.4.5)\n",
            "Requirement already satisfied: tqdm>=4.27 in /usr/local/lib/python3.10/dist-packages (from transformers) (4.66.6)\n",
            "Requirement already satisfied: fsspec>=2023.5.0 in /usr/local/lib/python3.10/dist-packages (from huggingface-hub<1.0,>=0.23.2->transformers) (2024.10.0)\n",
            "Requirement already satisfied: typing-extensions>=3.7.4.3 in /usr/local/lib/python3.10/dist-packages (from huggingface-hub<1.0,>=0.23.2->transformers) (4.12.2)\n",
            "Requirement already satisfied: charset-normalizer<4,>=2 in /usr/local/lib/python3.10/dist-packages (from requests->transformers) (3.4.0)\n",
            "Requirement already satisfied: idna<4,>=2.5 in /usr/local/lib/python3.10/dist-packages (from requests->transformers) (3.10)\n",
            "Requirement already satisfied: urllib3<3,>=1.21.1 in /usr/local/lib/python3.10/dist-packages (from requests->transformers) (2.2.3)\n",
            "Requirement already satisfied: certifi>=2017.4.17 in /usr/local/lib/python3.10/dist-packages (from requests->transformers) (2024.8.30)\n",
            "\u001b[31mERROR: Could not find a version that satisfies the requirement hugginface_hub (from versions: none)\u001b[0m\u001b[31m\n",
            "\u001b[0m\u001b[31mERROR: No matching distribution found for hugginface_hub\u001b[0m\u001b[31m\n",
            "\u001b[0mRequirement already satisfied: indic-transliteration in /usr/local/lib/python3.10/dist-packages (2.3.68)\n",
            "Requirement already satisfied: backports.functools-lru-cache in /usr/local/lib/python3.10/dist-packages (from indic-transliteration) (2.0.0)\n",
            "Requirement already satisfied: regex in /usr/local/lib/python3.10/dist-packages (from indic-transliteration) (2024.9.11)\n",
            "Requirement already satisfied: typer in /usr/local/lib/python3.10/dist-packages (from indic-transliteration) (0.15.0)\n",
            "Requirement already satisfied: toml in /usr/local/lib/python3.10/dist-packages (from indic-transliteration) (0.10.2)\n",
            "Requirement already satisfied: roman in /usr/local/lib/python3.10/dist-packages (from indic-transliteration) (4.2)\n",
            "Requirement already satisfied: click>=8.0.0 in /usr/local/lib/python3.10/dist-packages (from typer->indic-transliteration) (8.1.7)\n",
            "Requirement already satisfied: typing-extensions>=3.7.4.3 in /usr/local/lib/python3.10/dist-packages (from typer->indic-transliteration) (4.12.2)\n",
            "Requirement already satisfied: shellingham>=1.3.0 in /usr/local/lib/python3.10/dist-packages (from typer->indic-transliteration) (1.5.4)\n",
            "Requirement already satisfied: rich>=10.11.0 in /usr/local/lib/python3.10/dist-packages (from typer->indic-transliteration) (13.9.4)\n",
            "Requirement already satisfied: markdown-it-py>=2.2.0 in /usr/local/lib/python3.10/dist-packages (from rich>=10.11.0->typer->indic-transliteration) (3.0.0)\n",
            "Requirement already satisfied: pygments<3.0.0,>=2.13.0 in /usr/local/lib/python3.10/dist-packages (from rich>=10.11.0->typer->indic-transliteration) (2.18.0)\n",
            "Requirement already satisfied: mdurl~=0.1 in /usr/local/lib/python3.10/dist-packages (from markdown-it-py>=2.2.0->rich>=10.11.0->typer->indic-transliteration) (0.1.2)\n",
            "Requirement already satisfied: langdetect in /usr/local/lib/python3.10/dist-packages (1.0.9)\n",
            "Requirement already satisfied: six in /usr/local/lib/python3.10/dist-packages (from langdetect) (1.16.0)\n"
          ]
        }
      ],
      "source": [
        "!pip install transformers\n",
        "!pip install hugginface_hub\n",
        "!pip install indic-transliteration\n",
        "!pip install langdetect"
      ]
    },
    {
      "cell_type": "code",
      "source": [
        "from langdetect import detect\n",
        "from indic_transliteration.sanscript import transliterate\n",
        "from transformers import pipeline\n",
        "\n",
        "# Load pre-trained sentiment analysis pipeline\n",
        "sentiment_analyzer = pipeline(\"sentiment-analysis\")\n",
        "\n",
        "# Mixed list of sentences\n",
        "mixed_sentences = [\n",
        "    \"यो उत्पादन धेरै राम्रो छ।\",\n",
        "    \"सेवा ठिक थिएन।\",\n",
        "    \"मलाई यो वेबसाइट मन परेन।\",\n",
        "    \"उत्तम अनुभव, सिफारिस गर्छु।\",\n",
        "    \"This product is very good.\",\n",
        "    \"Malai yo website man parena.\",\n",
        "    \"I don't like this website.\",\n",
        "    \"Uttam anubhav, sifaris garchu.\",\n",
        "    \"Great experience, I recommend it.\",\n",
        "    \"I love this product! It's amazing.\",\n",
        "    \"The service was terrible and I'm really disappointed.\",\n",
        "    \"Great experience, would recommend to others!\",\n",
        "    \"This is the worst website I've ever used.\"\n",
        "    \"Yo utpadan dherai ramro cha.\",\n",
        "    \"Sewa thik thiyena.\",\n",
        "    \"Malai yo website man parena.\",\n",
        "    \"Uttam anubhav, sifaris garchu.\"\n",
        "]\n",
        "\n",
        "# Function to process sentences (transliterate Nepali and keep English as-is)\n",
        "def process_sentences(sentences):\n",
        "    processed_sentences = []\n",
        "    for sentence in sentences:\n",
        "        try:\n",
        "            # Detect language of the sentence\n",
        "            lang = detect(sentence)\n",
        "            if lang == 'en':  # If the sentence is in English\n",
        "                processed_sentences.append(sentence)\n",
        "            else:  # Assume it's Romanized Nepali and transliterate\n",
        "                processed_sentences.append(transliterate(sentence, \"iast\", \"devanagari\"))\n",
        "        except Exception as e:\n",
        "            # If detection fails, assume it's Nepali (fallback case)\n",
        "            processed_sentences.append(transliterate(sentence, \"iast\", \"devanagari\"))\n",
        "    return processed_sentences\n",
        "\n",
        "# Process the mixed list of sentences\n",
        "processed_sentences = process_sentences(mixed_sentences)\n",
        "\n",
        "# Perform sentiment analysis on the processed sentences\n",
        "sentiment_results = sentiment_analyzer(processed_sentences)\n",
        "\n",
        "# Display the results\n",
        "for original, processed, sentiment in zip(mixed_sentences, processed_sentences, sentiment_results):\n",
        "    print(f\"Original: {original}\")\n",
        "    print(f\"Processed: {processed}\")\n",
        "    print(f\"Sentiment: {sentiment['label']} (Confidence: {sentiment['score']:.2f})\")\n",
        "    print(\"-\" * 50)\n"
      ],
      "metadata": {
        "colab": {
          "base_uri": "https://localhost:8080/"
        },
        "id": "xDGBw0nBpWZf",
        "outputId": "d8cba951-f67c-4aee-a253-ac46b2dbfcf0"
      },
      "execution_count": 18,
      "outputs": [
        {
          "output_type": "stream",
          "name": "stderr",
          "text": [
            "No model was supplied, defaulted to distilbert/distilbert-base-uncased-finetuned-sst-2-english and revision 714eb0f (https://huggingface.co/distilbert/distilbert-base-uncased-finetuned-sst-2-english).\n",
            "Using a pipeline without specifying a model name and revision in production is not recommended.\n",
            "Hardware accelerator e.g. GPU is available in the environment, but no `device` argument is passed to the `Pipeline` object. Model will be on CPU.\n"
          ]
        },
        {
          "output_type": "stream",
          "name": "stdout",
          "text": [
            "Original: यो उत्पादन धेरै राम्रो छ।\n",
            "Processed: यो उत्पादन धेरै राम्रो छ।\n",
            "Sentiment: POSITIVE (Confidence: 0.62)\n",
            "--------------------------------------------------\n",
            "Original: सेवा ठिक थिएन।\n",
            "Processed: सेवा ठिक थिएन।\n",
            "Sentiment: NEGATIVE (Confidence: 0.75)\n",
            "--------------------------------------------------\n",
            "Original: मलाई यो वेबसाइट मन परेन।\n",
            "Processed: मलाई यो वेबसाइट मन परेन।\n",
            "Sentiment: NEGATIVE (Confidence: 0.82)\n",
            "--------------------------------------------------\n",
            "Original: उत्तम अनुभव, सिफारिस गर्छु।\n",
            "Processed: उत्तम अनुभव, सिफारिस गर्छु।\n",
            "Sentiment: POSITIVE (Confidence: 0.51)\n",
            "--------------------------------------------------\n",
            "Original: This product is very good.\n",
            "Processed: This product is very good.\n",
            "Sentiment: POSITIVE (Confidence: 1.00)\n",
            "--------------------------------------------------\n",
            "Original: Malai yo website man parena.\n",
            "Processed: मलै यो wएब्सिते मन् परेन।\n",
            "Sentiment: NEGATIVE (Confidence: 0.88)\n",
            "--------------------------------------------------\n",
            "Original: I don't like this website.\n",
            "Processed: I don't like this website.\n",
            "Sentiment: NEGATIVE (Confidence: 1.00)\n",
            "--------------------------------------------------\n",
            "Original: Uttam anubhav, sifaris garchu.\n",
            "Processed: उत्तम् अनुभव्, सिफ़रिस् गर्छु।\n",
            "Sentiment: POSITIVE (Confidence: 0.51)\n",
            "--------------------------------------------------\n",
            "Original: Great experience, I recommend it.\n",
            "Processed: Great experience, I recommend it.\n",
            "Sentiment: POSITIVE (Confidence: 1.00)\n",
            "--------------------------------------------------\n",
            "Original: I love this product! It's amazing.\n",
            "Processed: I love this product! It's amazing.\n",
            "Sentiment: POSITIVE (Confidence: 1.00)\n",
            "--------------------------------------------------\n",
            "Original: The service was terrible and I'm really disappointed.\n",
            "Processed: The service was terrible and I'm really disappointed.\n",
            "Sentiment: NEGATIVE (Confidence: 1.00)\n",
            "--------------------------------------------------\n",
            "Original: Great experience, would recommend to others!\n",
            "Processed: Great experience, would recommend to others!\n",
            "Sentiment: POSITIVE (Confidence: 1.00)\n",
            "--------------------------------------------------\n",
            "Original: This is the worst website I've ever used.Yo utpadan dherai ramro cha.\n",
            "Processed: This is the worst website I've ever used.Yo utpadan dherai ramro cha.\n",
            "Sentiment: NEGATIVE (Confidence: 1.00)\n",
            "--------------------------------------------------\n",
            "Original: Sewa thik thiyena.\n",
            "Processed: सेwअ थिक् थियेन।\n",
            "Sentiment: NEGATIVE (Confidence: 0.84)\n",
            "--------------------------------------------------\n",
            "Original: Malai yo website man parena.\n",
            "Processed: मलै यो wएब्सिते मन् परेन।\n",
            "Sentiment: NEGATIVE (Confidence: 0.88)\n",
            "--------------------------------------------------\n",
            "Original: Uttam anubhav, sifaris garchu.\n",
            "Processed: उत्तम् अनुभव्, सिफ़रिस् गर्छु।\n",
            "Sentiment: POSITIVE (Confidence: 0.51)\n",
            "--------------------------------------------------\n"
          ]
        }
      ]
    }
  ]
}